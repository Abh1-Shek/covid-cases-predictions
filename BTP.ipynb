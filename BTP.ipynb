{
 "cells": [
  {
   "cell_type": "code",
   "execution_count": 1,
   "metadata": {},
   "outputs": [],
   "source": [
    "import pandas as pd\n",
    "import matplotlib.pyplot as plt"
   ]
  },
  {
   "cell_type": "code",
   "execution_count": 2,
   "metadata": {},
   "outputs": [],
   "source": [
    "df_ind = pd.read_csv('india.csv')"
   ]
  },
  {
   "cell_type": "code",
   "execution_count": 3,
   "metadata": {},
   "outputs": [
    {
     "data": {
      "text/plain": [
       "[<matplotlib.lines.Line2D at 0x1c7c36f2bc8>]"
      ]
     },
     "execution_count": 3,
     "metadata": {},
     "output_type": "execute_result"
    },
    {
     "data": {
      "image/png": "[encoded data removed]",
      "text/plain": [
       "<Figure size 432x288 with 1 Axes>"
      ]
     },
     "metadata": {
      "needs_background": "light"
     },
     "output_type": "display_data"
    }
   ],
   "source": [
    "plt.plot(df_ind['new_cases'].iloc[:])"
   ]
  },
  {
   "cell_type": "code",
   "execution_count": 4,
   "metadata": {},
   "outputs": [],
   "source": [
    "peak1 = df_ind['new_cases'].iloc[:400].max()\n",
    "peak2 = df_ind['new_cases'].iloc[400:600].max()\n",
    "peak3 = df_ind['new_cases'].iloc[600:800].max()\n",
    "peak4 = df_ind['new_cases'].iloc[800:].max()"
   ]
  },
  {
   "cell_type": "code",
   "execution_count": 5,
   "metadata": {},
   "outputs": [
    {
     "name": "stdout",
     "output_type": "stream",
     "text": [
      "97894.0 414188.0 347254.0 28941.0\n"
     ]
    }
   ],
   "source": [
    "print(peak1, peak2, peak3, peak4)"
   ]
  },
  {
   "cell_type": "code",
   "execution_count": 6,
   "metadata": {},
   "outputs": [],
   "source": [
    "def get(i):\n",
    "    val = 0\n",
    "    cnt = 0\n",
    "    for x in range(-5, 6):\n",
    "        val += df_ind['new_cases'].iloc[i + x]\n",
    "        cnt += 1\n",
    "    return val / cnt"
   ]
  },
  {
   "cell_type": "code",
   "execution_count": 7,
   "metadata": {},
   "outputs": [],
   "source": [
    "slope1 = get(240) - get(140)\n",
    "slope2 = get(450) - get(450 - 150)\n",
    "slope3 = get(725) - get(725 - 150)\n",
    "slope4 = get(900) - get(900 - 100)"
   ]
  },
  {
   "cell_type": "code",
   "execution_count": 8,
   "metadata": {
    "scrolled": false
   },
   "outputs": [
    {
     "name": "stdout",
     "output_type": "stream",
     "text": [
      "--------Peak predictions--------\n",
      "Peak 2\n",
      "Actual:  414188\n",
      "Predicted:  418075\n",
      "Peak 3\n",
      "Actual:  347254\n",
      "Predicted:  355526\n",
      "Peak 4\n",
      "Actual:  28941\n",
      "Predicted:  26813\n"
     ]
    }
   ],
   "source": [
    "print(\"--------Peak predictions--------\")\n",
    "\n",
    "peak2_pred = (slope2/slope1) * peak1\n",
    "\n",
    "\n",
    "print(\"Peak 2\")\n",
    "print(\"Actual: \", int(peak2))\n",
    "print(\"Predicted: \", int(peak2_pred))\n",
    "\n",
    "peak3_pred = (slope3/slope1) * peak1\n",
    "\n",
    "print(\"Peak 3\")\n",
    "print(\"Actual: \", int(peak3))\n",
    "print(\"Predicted: \", int(peak3_pred))\n",
    "\n",
    "peak4_pred = (slope4/slope1) * peak1\n",
    "\n",
    "print(\"Peak 4\")\n",
    "print(\"Actual: \", int(peak4))\n",
    "print(\"Predicted: \", int(peak4_pred))"
   ]
  },
  {
   "cell_type": "code",
   "execution_count": null,
   "metadata": {},
   "outputs": [],
   "source": []
  }
 ],
 "metadata": {
  "kernelspec": {
   "display_name": "'Python Interactive'",
   "language": "python",
   "name": "52c418bc-bd7d-4061-b6a2-3b59f32782e1"
  },
  "language_info": {
   "codemirror_mode": {
    "name": "ipython",
    "version": 3
   },
   "file_extension": ".py",
   "mimetype": "text/x-python",
   "name": "python",
   "nbconvert_exporter": "python",
   "pygments_lexer": "ipython3",
   "version": "3.7.4"
  }
 },
 "nbformat": 4,
 "nbformat_minor": 2
}
